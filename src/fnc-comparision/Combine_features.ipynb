{
  "nbformat": 4,
  "nbformat_minor": 0,
  "metadata": {
    "colab": {
      "name": "Combine_features.ipynb",
      "version": "0.3.2",
      "provenance": [],
      "collapsed_sections": []
    },
    "kernelspec": {
      "name": "python3",
      "display_name": "Python 3"
    },
    "accelerator": "GPU"
  },
  "cells": [
    {
      "metadata": {
        "id": "MBMusSpvOBfM",
        "colab_type": "code",
        "outputId": "8f79b05a-68aa-4656-c298-aa23781f6174",
        "colab": {
          "base_uri": "https://localhost:8080/",
          "height": 34
        }
      },
      "cell_type": "code",
      "source": [
        "from google.colab import drive\n",
        "drive.mount('/content/drive')"
      ],
      "execution_count": 0,
      "outputs": [
        {
          "output_type": "stream",
          "text": [
            "Drive already mounted at /content/drive; to attempt to forcibly remount, call drive.mount(\"/content/drive\", force_remount=True).\n"
          ],
          "name": "stdout"
        }
      ]
    },
    {
      "metadata": {
        "id": "J8HxAvtXOP9R",
        "colab_type": "code",
        "colab": {}
      },
      "cell_type": "code",
      "source": [
        "import os\n",
        "# os.getcwd()\n",
        "os.chdir('drive/My Drive/features')"
      ],
      "execution_count": 0,
      "outputs": []
    },
    {
      "metadata": {
        "id": "ra2Tc12oOwDn",
        "colab_type": "code",
        "colab": {}
      },
      "cell_type": "code",
      "source": [
        "import pickle as pk\n",
        "f=open('tfidf_xtrain.pickle','rb')\n",
        "tfidf_xtrain= pk.load(f)\n",
        "f.close()"
      ],
      "execution_count": 0,
      "outputs": []
    },
    {
      "metadata": {
        "id": "lcq5TYvJPDSo",
        "colab_type": "code",
        "colab": {}
      },
      "cell_type": "code",
      "source": [
        "import pickle as pk\n",
        "f=open('sentiment_train.pickle','rb')\n",
        "sentiment_xtrain= pk.load(f)\n",
        "f.close()"
      ],
      "execution_count": 0,
      "outputs": []
    },
    {
      "metadata": {
        "id": "cExOkLcDQDiY",
        "colab_type": "code",
        "outputId": "a28e7065-9fea-4232-a89e-e1521922c61b",
        "colab": {
          "base_uri": "https://localhost:8080/",
          "height": 34
        }
      },
      "cell_type": "code",
      "source": [
        "sentiment_xtrain.shape"
      ],
      "execution_count": 0,
      "outputs": [
        {
          "output_type": "execute_result",
          "data": {
            "text/plain": [
              "(49972, 8)"
            ]
          },
          "metadata": {
            "tags": []
          },
          "execution_count": 6
        }
      ]
    },
    {
      "metadata": {
        "id": "gd3tbA-DPqKf",
        "colab_type": "code",
        "colab": {}
      },
      "cell_type": "code",
      "source": [
        "import numpy as np\n",
        "x= np.hstack((tfidf_xtrain,sentiment_xtrain))\n",
        "print(x.shape)\n",
        "# del(tfidf_xtrain)\n",
        "# del(sentiment_xtrain)\n",
        "# import gc\n",
        "# collected= gc.collect()\n",
        "# print(\"garbage collected= \",collected)"
      ],
      "execution_count": 0,
      "outputs": []
    },
    {
      "metadata": {
        "id": "OYN40tDIQNyV",
        "colab_type": "code",
        "outputId": "aeabb1ca-c6dc-4370-94b9-89ee66708d11",
        "colab": {
          "base_uri": "https://localhost:8080/",
          "height": 34
        }
      },
      "cell_type": "code",
      "source": [
        "del(sentiment_xtrain)\n",
        "import gc\n",
        "collected= gc.collect()\n",
        "print(\"garbage collected= \",collected)"
      ],
      "execution_count": 0,
      "outputs": [
        {
          "output_type": "stream",
          "text": [
            "garbage collected=  0\n"
          ],
          "name": "stdout"
        }
      ]
    },
    {
      "metadata": {
        "id": "IQOIPpKyQVDP",
        "colab_type": "code",
        "outputId": "51a70414-f71e-4c66-b34a-def5a6d62ae9",
        "colab": {
          "base_uri": "https://localhost:8080/",
          "height": 34
        }
      },
      "cell_type": "code",
      "source": [
        "x.shape"
      ],
      "execution_count": 0,
      "outputs": [
        {
          "output_type": "execute_result",
          "data": {
            "text/plain": [
              "(49972, 8008)"
            ]
          },
          "metadata": {
            "tags": []
          },
          "execution_count": 16
        }
      ]
    },
    {
      "metadata": {
        "id": "3KY5dhcFQavY",
        "colab_type": "code",
        "colab": {}
      },
      "cell_type": "code",
      "source": [
        "import pickle as pk\n",
        "f=open('baseline_train.pickle','rb')\n",
        "baseline_xtrain= pk.load(f)\n",
        "f.close()"
      ],
      "execution_count": 0,
      "outputs": []
    },
    {
      "metadata": {
        "id": "0ctd5L6GQjnp",
        "colab_type": "code",
        "outputId": "b0d0bf8b-c042-415f-b854-43c776969ca9",
        "colab": {
          "base_uri": "https://localhost:8080/",
          "height": 51
        }
      },
      "cell_type": "code",
      "source": [
        "import numpy as np\n",
        "x= np.hstack((x,baseline_xtrain))\n",
        "print(x.shape)\n",
        "del(baseline_xtrain)\n",
        "import gc\n",
        "collected= gc.collect()\n",
        "print(\"garbage collected= \",collected)"
      ],
      "execution_count": 0,
      "outputs": [
        {
          "output_type": "stream",
          "text": [
            "(49972, 8026)\n",
            "garbage collected=  128\n"
          ],
          "name": "stdout"
        }
      ]
    },
    {
      "metadata": {
        "id": "Zqgq0LCRQ38F",
        "colab_type": "code",
        "colab": {}
      },
      "cell_type": "code",
      "source": [
        "import pickle as pk\n",
        "f=open('wv_train.pickle','rb')\n",
        "wv_xtrain= pk.load(f)\n",
        "f.close()"
      ],
      "execution_count": 0,
      "outputs": []
    },
    {
      "metadata": {
        "id": "VD-d4A3ERI2f",
        "colab_type": "code",
        "outputId": "4440efd5-4e9e-4090-daed-2ed79fdec5c5",
        "colab": {
          "base_uri": "https://localhost:8080/",
          "height": 51
        }
      },
      "cell_type": "code",
      "source": [
        "import numpy as np\n",
        "x= np.hstack((x,wv_xtrain))\n",
        "print(x.shape)\n",
        "del(wv_xtrain)\n",
        "import gc\n",
        "collected= gc.collect()\n",
        "print(\"garbage collected= \",collected)"
      ],
      "execution_count": 0,
      "outputs": [
        {
          "output_type": "stream",
          "text": [
            "(49972, 8626)\n",
            "garbage collected=  0\n"
          ],
          "name": "stdout"
        }
      ]
    },
    {
      "metadata": {
        "id": "GsBiGLcaRQua",
        "colab_type": "code",
        "colab": {}
      },
      "cell_type": "code",
      "source": [
        "import pickle as pk\n",
        "f=open('combined_feature_x.pickle','wb')\n",
        "pk.dump(x,f)\n",
        "f.close()\n",
        "del(x)"
      ],
      "execution_count": 0,
      "outputs": []
    },
    {
      "metadata": {
        "id": "75Fag4b6RbRi",
        "colab_type": "code",
        "outputId": "eeff1287-feb8-4e95-a0a3-9c477e72658a",
        "colab": {
          "base_uri": "https://localhost:8080/",
          "height": 34
        }
      },
      "cell_type": "code",
      "source": [
        "import gc\n",
        "collected= gc.collect()\n",
        "print(\"garbage collected= \",collected)"
      ],
      "execution_count": 0,
      "outputs": [
        {
          "output_type": "stream",
          "text": [
            "garbage collected=  0\n"
          ],
          "name": "stdout"
        }
      ]
    },
    {
      "metadata": {
        "id": "YJRH55XCR0FE",
        "colab_type": "code",
        "outputId": "65cd5a2c-68a5-45fc-d069-38ff6b2f28b8",
        "colab": {
          "base_uri": "https://localhost:8080/",
          "height": 34
        }
      },
      "cell_type": "code",
      "source": [
        "from pydrive.auth import GoogleAuth\n",
        "from pydrive.drive import GoogleDrive\n",
        "from google.colab import auth\n",
        "from oauth2client.client import GoogleCredentials\n",
        "\n",
        "# 1. Authenticate and create the PyDrive client.\n",
        "auth.authenticate_user()\n",
        "gauth = GoogleAuth()\n",
        "gauth.credentials = GoogleCredentials.get_application_default()\n",
        "drive = GoogleDrive(gauth)  \n",
        "\n",
        "# get the folder id where you want to save your file\n",
        "file = drive.CreateFile()\n",
        "file.SetContentFile('combined_feature_x.pickle')\n",
        "file.Upload()\n",
        "# del(x)\n",
        "import gc\n",
        "collected= gc.collect()\n",
        "print(\"garbage collected= \",collected)"
      ],
      "execution_count": 0,
      "outputs": [
        {
          "output_type": "stream",
          "text": [
            "garbage collected=  365\n"
          ],
          "name": "stdout"
        }
      ]
    },
    {
      "metadata": {
        "id": "-vL4npgkp5wr",
        "colab_type": "code",
        "colab": {}
      },
      "cell_type": "code",
      "source": [
        "import pickle as pk\n",
        "f=open('ytrain.pickle','rb')\n",
        "ytrain= pk.load(f)\n",
        "f.close()"
      ],
      "execution_count": 0,
      "outputs": []
    },
    {
      "metadata": {
        "id": "tYoeGmhFSALO",
        "colab_type": "code",
        "colab": {}
      },
      "cell_type": "code",
      "source": [
        "sentiment_train, sentiment_val, wv_train, wv_val, base_train, base_val, trainLabels, valLabels = train_test_split(sentiment_train, wv_train, base_train, trainLabels, test_size=0.20, random_state=42)"
      ],
      "execution_count": 0,
      "outputs": []
    },
    {
      "metadata": {
        "id": "4zXgsBGZpLbk",
        "colab_type": "code",
        "colab": {}
      },
      "cell_type": "code",
      "source": [
        "from sklearn.model_selection import train_test_split\n",
        "sentiment_train, sentiment_valid, wv_train, wv_valid, base_train, base_valid,tfidf_train,tfidf_valid, trainLabels, validLabels = train_test_split(sentiment_xtrain, wv_xtrain, baseline_xtrain, tfidf_xtrain,ytrain, test_size=0.20, random_state=42)"
      ],
      "execution_count": 0,
      "outputs": []
    },
    {
      "metadata": {
        "id": "nsip2Ki3qPca",
        "colab_type": "code",
        "outputId": "b2403008-08a8-4a70-9688-b9d41b95b669",
        "colab": {
          "base_uri": "https://localhost:8080/",
          "height": 34
        }
      },
      "cell_type": "code",
      "source": [
        "del(sentiment_xtrain)\n",
        "del(wv_xtrain)\n",
        "del(baseline_xtrain)\n",
        "del(tfidf_xtrain)\n",
        "del(ytrain)\n",
        "import gc\n",
        "collected= gc.collect()\n",
        "print(\"garbage collected= \",collected)\n"
      ],
      "execution_count": 0,
      "outputs": [
        {
          "output_type": "stream",
          "text": [
            "garbage collected=  10\n"
          ],
          "name": "stdout"
        }
      ]
    },
    {
      "metadata": {
        "id": "v6mGnBFiqSTh",
        "colab_type": "code",
        "outputId": "1cedbcbc-02fe-44ef-ee45-90688513399e",
        "colab": {
          "base_uri": "https://localhost:8080/",
          "height": 34
        }
      },
      "cell_type": "code",
      "source": [
        "sentiment_valid.shape"
      ],
      "execution_count": 0,
      "outputs": [
        {
          "output_type": "execute_result",
          "data": {
            "text/plain": [
              "(9995, 8)"
            ]
          },
          "metadata": {
            "tags": []
          },
          "execution_count": 13
        }
      ]
    },
    {
      "metadata": {
        "id": "ojZVtFKaqT_Y",
        "colab_type": "code",
        "colab": {}
      },
      "cell_type": "code",
      "source": [
        "import os\n",
        "os.mkdir('split')\n",
        "os.chdir('split')"
      ],
      "execution_count": 0,
      "outputs": []
    },
    {
      "metadata": {
        "id": "ivYSCn30q2jM",
        "colab_type": "code",
        "colab": {}
      },
      "cell_type": "code",
      "source": [
        "import pickle as pk\n",
        "f=open('tfidf_train.pickle','wb')\n",
        "pk.dump(tfidf_train,f)\n",
        "f.close()\n",
        "\n",
        "import pickle as pk\n",
        "f=open('tfidf_valid.pickle','wb')\n",
        "pk.dump(tfidf_valid,f)\n",
        "f.close()"
      ],
      "execution_count": 0,
      "outputs": []
    },
    {
      "metadata": {
        "id": "KD5C_59wwbkN",
        "colab_type": "code",
        "colab": {}
      },
      "cell_type": "code",
      "source": [
        "!pip install pydrive"
      ],
      "execution_count": 0,
      "outputs": []
    },
    {
      "metadata": {
        "id": "rKLdVGgWrDUM",
        "colab_type": "code",
        "outputId": "f48ebbb8-4062-4934-fa1f-4c4c13be3e67",
        "colab": {
          "base_uri": "https://localhost:8080/",
          "height": 34
        }
      },
      "cell_type": "code",
      "source": [
        "\n",
        "from pydrive.auth import GoogleAuth\n",
        "from pydrive.drive import GoogleDrive\n",
        "from google.colab import auth\n",
        "from oauth2client.client import GoogleCredentials\n",
        "\n",
        "# 1. Authenticate and create the PyDrive client.\n",
        "auth.authenticate_user()\n",
        "gauth = GoogleAuth()\n",
        "gauth.credentials = GoogleCredentials.get_application_default()\n",
        "drive = GoogleDrive(gauth)  \n",
        "\n",
        "# get the folder id where you want to save your file\n",
        "file = drive.CreateFile()\n",
        "file.SetContentFile('tfidf_train.pickle')\n",
        "file.Upload()\n",
        "# del(x)\n",
        "import gc\n",
        "collected= gc.collect()\n",
        "print(\"garbage collected= \",collected)"
      ],
      "execution_count": 0,
      "outputs": [
        {
          "output_type": "stream",
          "text": [
            "garbage collected=  1055\n"
          ],
          "name": "stdout"
        }
      ]
    },
    {
      "metadata": {
        "id": "ov1p-V3urMkw",
        "colab_type": "code",
        "colab": {}
      },
      "cell_type": "code",
      "source": [
        "import numpy as np\n",
        "combined_xValid= np.hstack((tfidf_valid,sentiment_valid,base_valid,wv_valid))"
      ],
      "execution_count": 0,
      "outputs": []
    },
    {
      "metadata": {
        "id": "cHYkH4ZytLC5",
        "colab_type": "code",
        "colab": {}
      },
      "cell_type": "code",
      "source": [
        "import pickle as pk\n",
        "f=open('combined_xvalid.pickle','wb')\n",
        "pk.dump(combined_xValid,f)\n",
        "f.close()"
      ],
      "execution_count": 0,
      "outputs": []
    },
    {
      "metadata": {
        "id": "4knJfr21tV6O",
        "colab_type": "code",
        "outputId": "fd443d14-7465-427a-b9a6-dcaf7c86b187",
        "colab": {
          "base_uri": "https://localhost:8080/",
          "height": 34
        }
      },
      "cell_type": "code",
      "source": [
        "from pydrive.auth import GoogleAuth\n",
        "from pydrive.drive import GoogleDrive\n",
        "from google.colab import auth\n",
        "from oauth2client.client import GoogleCredentials\n",
        "\n",
        "# 1. Authenticate and create the PyDrive client.\n",
        "auth.authenticate_user()\n",
        "gauth = GoogleAuth()\n",
        "gauth.credentials = GoogleCredentials.get_application_default()\n",
        "drive = GoogleDrive(gauth)  \n",
        "\n",
        "# get the folder id where you want to save your file\n",
        "file = drive.CreateFile()\n",
        "file.SetContentFile('combined_xvalid.pickle')\n",
        "file.Upload()\n",
        "# del(x)\n",
        "import gc\n",
        "collected= gc.collect()\n",
        "print(\"garbage collected= \",collected)"
      ],
      "execution_count": 0,
      "outputs": [
        {
          "output_type": "stream",
          "text": [
            "garbage collected=  1055\n"
          ],
          "name": "stdout"
        }
      ]
    },
    {
      "metadata": {
        "id": "zDzTwx-gtdin",
        "colab_type": "code",
        "outputId": "6a3e3123-34be-4940-b06f-a14b208e61b7",
        "colab": {
          "base_uri": "https://localhost:8080/",
          "height": 34
        }
      },
      "cell_type": "code",
      "source": [
        "del(combined_xTrain)\n",
        "import gc\n",
        "collected= gc.collect()\n",
        "print(\"garbage collected= \",collected)"
      ],
      "execution_count": 0,
      "outputs": [
        {
          "output_type": "stream",
          "text": [
            "garbage collected=  0\n"
          ],
          "name": "stdout"
        }
      ]
    },
    {
      "metadata": {
        "id": "Ux69BWffttTF",
        "colab_type": "code",
        "colab": {}
      },
      "cell_type": "code",
      "source": [
        "import numpy as np\n",
        "combined_xValid= np.hstack((tfidf_valid,sentiment_valid,base_valid,wv_valid))"
      ],
      "execution_count": 0,
      "outputs": []
    },
    {
      "metadata": {
        "id": "RKOnmAK5t5y-",
        "colab_type": "code",
        "colab": {}
      },
      "cell_type": "code",
      "source": [
        "import pickle as pk\n",
        "f=open('combined_xvalid.pickle','wb')\n",
        "pk.dump(trainLabels,f)\n",
        "f.close()"
      ],
      "execution_count": 0,
      "outputs": []
    }
  ]
}