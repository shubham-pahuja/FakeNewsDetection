{
  "nbformat": 4,
  "nbformat_minor": 0,
  "metadata": {
    "colab": {
      "name": "Untitled9.ipynb",
      "version": "0.3.2",
      "provenance": [],
      "collapsed_sections": []
    },
    "kernelspec": {
      "name": "python3",
      "display_name": "Python 3"
    },
    "accelerator": "GPU"
  },
  "cells": [
    {
      "metadata": {
        "id": "lVSjpTCQbJCr",
        "colab_type": "code",
        "colab": {}
      },
      "cell_type": "code",
      "source": [
        "import nltk"
      ],
      "execution_count": 0,
      "outputs": []
    },
    {
      "metadata": {
        "id": "5n-lt_P1cXbT",
        "colab_type": "code",
        "colab": {}
      },
      "cell_type": "code",
      "source": [
        "train_stance_url='https://raw.githubusercontent.com/FakeNewsChallenge/fnc-1/master/train_stances.csv'\n",
        "train_bodies_url='https://raw.githubusercontent.com/FakeNewsChallenge/fnc-1/master/train_bodies.csv'"
      ],
      "execution_count": 0,
      "outputs": []
    },
    {
      "metadata": {
        "id": "w-o3mGRDlT8Z",
        "colab_type": "code",
        "colab": {}
      },
      "cell_type": "code",
      "source": [
        "import pandas as pd\n",
        "import numpy as np\n",
        "stances_train = pd.read_csv(train_stance_url)\n",
        "body_train = pd.read_csv(train_bodies_url)\n",
        "train = pd.merge(stances_train, body_train, how='left', on='Body ID')"
      ],
      "execution_count": 0,
      "outputs": []
    },
    {
      "metadata": {
        "id": "x8Uteb9JvfB_",
        "colab_type": "code",
        "outputId": "def3ad1d-88c4-4c5b-89f3-0b4ddd1dba2a",
        "colab": {
          "base_uri": "https://localhost:8080/",
          "height": 111
        }
      },
      "cell_type": "code",
      "source": [
        "train[0:2]"
      ],
      "execution_count": 0,
      "outputs": [
        {
          "output_type": "execute_result",
          "data": {
            "text/html": [
              "<div>\n",
              "<style scoped>\n",
              "    .dataframe tbody tr th:only-of-type {\n",
              "        vertical-align: middle;\n",
              "    }\n",
              "\n",
              "    .dataframe tbody tr th {\n",
              "        vertical-align: top;\n",
              "    }\n",
              "\n",
              "    .dataframe thead th {\n",
              "        text-align: right;\n",
              "    }\n",
              "</style>\n",
              "<table border=\"1\" class=\"dataframe\">\n",
              "  <thead>\n",
              "    <tr style=\"text-align: right;\">\n",
              "      <th></th>\n",
              "      <th>Headline</th>\n",
              "      <th>Body ID</th>\n",
              "      <th>Stance</th>\n",
              "      <th>articleBody</th>\n",
              "    </tr>\n",
              "  </thead>\n",
              "  <tbody>\n",
              "    <tr>\n",
              "      <th>0</th>\n",
              "      <td>Police find mass graves with at least '15 bodi...</td>\n",
              "      <td>712</td>\n",
              "      <td>unrelated</td>\n",
              "      <td>Danny Boyle is directing the untitled film\\n\\n...</td>\n",
              "    </tr>\n",
              "    <tr>\n",
              "      <th>1</th>\n",
              "      <td>Hundreds of Palestinians flee floods in Gaza a...</td>\n",
              "      <td>158</td>\n",
              "      <td>agree</td>\n",
              "      <td>Hundreds of Palestinians were evacuated from t...</td>\n",
              "    </tr>\n",
              "  </tbody>\n",
              "</table>\n",
              "</div>"
            ],
            "text/plain": [
              "                                            Headline  Body ID     Stance  \\\n",
              "0  Police find mass graves with at least '15 bodi...      712  unrelated   \n",
              "1  Hundreds of Palestinians flee floods in Gaza a...      158      agree   \n",
              "\n",
              "                                         articleBody  \n",
              "0  Danny Boyle is directing the untitled film\\n\\n...  \n",
              "1  Hundreds of Palestinians were evacuated from t...  "
            ]
          },
          "metadata": {
            "tags": []
          },
          "execution_count": 12
        }
      ]
    },
    {
      "metadata": {
        "id": "w32fw4aUvjjT",
        "colab_type": "code",
        "outputId": "1fa80dd8-63d3-492a-eb3a-63fd731e77e7",
        "colab": {
          "base_uri": "https://localhost:8080/",
          "height": 34
        }
      },
      "cell_type": "code",
      "source": [
        "train.shape"
      ],
      "execution_count": 0,
      "outputs": [
        {
          "output_type": "execute_result",
          "data": {
            "text/plain": [
              "(49972, 4)"
            ]
          },
          "metadata": {
            "tags": []
          },
          "execution_count": 13
        }
      ]
    },
    {
      "metadata": {
        "id": "MVN3igVgvsyO",
        "colab_type": "code",
        "colab": {}
      },
      "cell_type": "code",
      "source": [
        "dic={'agree':0,'disagree':1,'discuss':2,'unrelated':3}\n",
        "train['Stance']=train['Stance'].map(dic) "
      ],
      "execution_count": 0,
      "outputs": []
    },
    {
      "metadata": {
        "id": "euFQQXBFwbAK",
        "colab_type": "code",
        "outputId": "ae84fc6f-e45f-4c22-b5d9-597a435ee946",
        "colab": {
          "base_uri": "https://localhost:8080/",
          "height": 80
        }
      },
      "cell_type": "code",
      "source": [
        "train[0:1]"
      ],
      "execution_count": 0,
      "outputs": [
        {
          "output_type": "execute_result",
          "data": {
            "text/html": [
              "<div>\n",
              "<style scoped>\n",
              "    .dataframe tbody tr th:only-of-type {\n",
              "        vertical-align: middle;\n",
              "    }\n",
              "\n",
              "    .dataframe tbody tr th {\n",
              "        vertical-align: top;\n",
              "    }\n",
              "\n",
              "    .dataframe thead th {\n",
              "        text-align: right;\n",
              "    }\n",
              "</style>\n",
              "<table border=\"1\" class=\"dataframe\">\n",
              "  <thead>\n",
              "    <tr style=\"text-align: right;\">\n",
              "      <th></th>\n",
              "      <th>Headline</th>\n",
              "      <th>Body ID</th>\n",
              "      <th>Stance</th>\n",
              "      <th>articleBody</th>\n",
              "    </tr>\n",
              "  </thead>\n",
              "  <tbody>\n",
              "    <tr>\n",
              "      <th>0</th>\n",
              "      <td>Police find mass graves with at least '15 bodi...</td>\n",
              "      <td>712</td>\n",
              "      <td>3</td>\n",
              "      <td>Danny Boyle is directing the untitled film\\n\\n...</td>\n",
              "    </tr>\n",
              "  </tbody>\n",
              "</table>\n",
              "</div>"
            ],
            "text/plain": [
              "                                            Headline  Body ID  Stance  \\\n",
              "0  Police find mass graves with at least '15 bodi...      712       3   \n",
              "\n",
              "                                         articleBody  \n",
              "0  Danny Boyle is directing the untitled film\\n\\n...  "
            ]
          },
          "metadata": {
            "tags": []
          },
          "execution_count": 15
        }
      ]
    },
    {
      "metadata": {
        "id": "_47nyHG5w_8P",
        "colab_type": "code",
        "outputId": "24aba7a4-0989-437a-c2d1-35a548374fbc",
        "colab": {
          "base_uri": "https://localhost:8080/",
          "height": 68
        }
      },
      "cell_type": "code",
      "source": [
        "nltk.download('stopwords')"
      ],
      "execution_count": 0,
      "outputs": [
        {
          "output_type": "stream",
          "text": [
            "[nltk_data] Downloading package stopwords to /root/nltk_data...\n",
            "[nltk_data]   Package stopwords is already up-to-date!\n"
          ],
          "name": "stdout"
        },
        {
          "output_type": "execute_result",
          "data": {
            "text/plain": [
              "True"
            ]
          },
          "metadata": {
            "tags": []
          },
          "execution_count": 25
        }
      ]
    },
    {
      "metadata": {
        "id": "TxqFX4Yqwkay",
        "colab_type": "code",
        "colab": {}
      },
      "cell_type": "code",
      "source": [
        "english_stemmer = nltk.stem.SnowballStemmer('english')\n",
        "token_pattern = r\"(?u)\\b\\w\\w+\\b\"\n",
        "stopwords = set(nltk.corpus.stopwords.words('english'))"
      ],
      "execution_count": 0,
      "outputs": []
    },
    {
      "metadata": {
        "id": "N89S21X20Aop",
        "colab_type": "code",
        "colab": {}
      },
      "cell_type": "code",
      "source": [
        "def stem_tokens(tokens, stemmer):\n",
        "    stemmed = []\n",
        "    for token in tokens:\n",
        "        stemmed.append(stemmer.stem(token))\n",
        "    return stemmed"
      ],
      "execution_count": 0,
      "outputs": []
    },
    {
      "metadata": {
        "id": "8cwGvDhr0Tdm",
        "colab_type": "code",
        "colab": {}
      },
      "cell_type": "code",
      "source": [
        "import re\n",
        "def preprocess_data(line,\n",
        "                    token_pattern=token_pattern,\n",
        "                    exclude_stopword=True,\n",
        "                    stem=True):\n",
        "    token_pattern = re.compile(token_pattern, flags = re.UNICODE)\n",
        "    tokens = [x.lower() for x in token_pattern.findall(line)]\n",
        "    tokens_stemmed = tokens\n",
        "    if stem:\n",
        "#         pass\n",
        "        tokens_stemmed = stem_tokens(tokens, english_stemmer)\n",
        "    if exclude_stopword:\n",
        "#         pass\n",
        "        tokens_stemmed = [x for x in tokens_stemmed if x not in stopwords]\n",
        "\n",
        "    return tokens_stemmed"
      ],
      "execution_count": 0,
      "outputs": []
    },
    {
      "metadata": {
        "id": "PPPK65MZ0V_j",
        "colab_type": "code",
        "outputId": "ca6ab13f-d6c4-4b78-e646-6def86d5205c",
        "colab": {
          "base_uri": "https://localhost:8080/",
          "height": 34
        }
      },
      "cell_type": "code",
      "source": [
        "preprocess_data('She is running. He ran away')\n",
        "# train[0:5]"
      ],
      "execution_count": 0,
      "outputs": [
        {
          "output_type": "execute_result",
          "data": {
            "text/plain": [
              "['run', 'ran', 'away']"
            ]
          },
          "metadata": {
            "tags": []
          },
          "execution_count": 29
        }
      ]
    },
    {
      "metadata": {
        "id": "ZfeJYNUk0ZTB",
        "colab_type": "code",
        "colab": {}
      },
      "cell_type": "code",
      "source": [
        "# preprocess_data(train['Headline'])"
      ],
      "execution_count": 0,
      "outputs": []
    },
    {
      "metadata": {
        "id": "K0uMcKemI1qL",
        "colab_type": "text"
      },
      "cell_type": "markdown",
      "source": [
        "Concatinating headline and body strings"
      ]
    },
    {
      "metadata": {
        "id": "lcMppNPH0ca2",
        "colab_type": "code",
        "colab": {}
      },
      "cell_type": "code",
      "source": [
        "train['combined']= train['Headline'] +\" \"+ train['articleBody']"
      ],
      "execution_count": 0,
      "outputs": []
    },
    {
      "metadata": {
        "id": "dBmOQSM__BZs",
        "colab_type": "code",
        "outputId": "6b6fff55-de89-42a2-9747-7c6c66d2510a",
        "colab": {
          "base_uri": "https://localhost:8080/",
          "height": 54
        }
      },
      "cell_type": "code",
      "source": [
        "train['combined'][0]"
      ],
      "execution_count": 0,
      "outputs": [
        {
          "output_type": "execute_result",
          "data": {
            "text/plain": [
              "'Police find mass graves with at least \\'15 bodies\\' near Mexico town where 43 students disappeared after police clash Danny Boyle is directing the untitled film\\n\\nSeth Rogen is being eyed to play Apple co-founder Steve Wozniak in Sony’s Steve Jobs biopic.\\n\\nDanny Boyle is directing the untitled film, based on Walter Isaacson\\'s book and adapted by Aaron Sorkin, which is one of the most anticipated biopics in recent years.\\n\\nNegotiations have not yet begun, and it’s not even clear if Rogen has an official offer, but the producers — Scott Rudin, Guymon Casady and Mark Gordon — have set their sights on the talent and are in talks.\\n\\nOf course, this may all be for naught as Christian Bale, the actor who is to play Jobs, is still in the midst of closing his deal. Sources say that dealmaking process is in a sensitive stage.\\n\\nInsiders say Boyle will is flying to Los Angeles to meet with actress to play one of the female leads, an assistant to Jobs. Insiders say that Jessica Chastain is one of the actresses on the meeting list.\\n\\nWozniak, known as \"Woz,\" co-founded Apple with Jobs and Ronald Wayne. He first met Jobs when they worked at Atari and later was responsible for creating the early Apple computers.'"
            ]
          },
          "metadata": {
            "tags": []
          },
          "execution_count": 32
        }
      ]
    },
    {
      "metadata": {
        "id": "VAyLAhD__Dsl",
        "colab_type": "code",
        "outputId": "9d27be95-3b55-46ab-d852-e6361dbc614c",
        "colab": {
          "base_uri": "https://localhost:8080/",
          "height": 34
        }
      },
      "cell_type": "code",
      "source": [
        "train['Headline'][0]"
      ],
      "execution_count": 0,
      "outputs": [
        {
          "output_type": "execute_result",
          "data": {
            "text/plain": [
              "\"Police find mass graves with at least '15 bodies' near Mexico town where 43 students disappeared after police clash\""
            ]
          },
          "metadata": {
            "tags": []
          },
          "execution_count": 33
        }
      ]
    },
    {
      "metadata": {
        "id": "5JMZ46h5I-sb",
        "colab_type": "text"
      },
      "cell_type": "markdown",
      "source": [
        "**Preprocessing** the combined string = Stemming + Stop words removal\n",
        "\n",
        "Generating **unigrams**= ['this , 'is' , 'a' ,'cat']"
      ]
    },
    {
      "metadata": {
        "id": "e77rzrGR_RU7",
        "colab_type": "code",
        "colab": {}
      },
      "cell_type": "code",
      "source": [
        "unigram=[]\n",
        "for i in train['combined']:\n",
        "  unigram.append(preprocess_data(i))"
      ],
      "execution_count": 0,
      "outputs": []
    },
    {
      "metadata": {
        "id": "oXUfFDLy_u6l",
        "colab_type": "code",
        "colab": {}
      },
      "cell_type": "code",
      "source": [
        "head_unigram=[]\n",
        "for i in train['Headline']:\n",
        "  head_unigram.append(preprocess_data(i))"
      ],
      "execution_count": 0,
      "outputs": []
    },
    {
      "metadata": {
        "id": "z76koI9J_1JH",
        "colab_type": "code",
        "colab": {}
      },
      "cell_type": "code",
      "source": [
        "body_unigram=[]\n",
        "for i in train['articleBody']:\n",
        "  body_unigram.append(preprocess_data(i))\n"
      ],
      "execution_count": 0,
      "outputs": []
    },
    {
      "metadata": {
        "id": "oKXyCnoAGIe5",
        "colab_type": "code",
        "outputId": "36d7e6f7-23f7-44d0-93f1-d040c98f7314",
        "colab": {
          "base_uri": "https://localhost:8080/",
          "height": 34
        }
      },
      "cell_type": "code",
      "source": [
        "unigram_np = np.array(unigram)\n",
        "unigram_np.shape"
      ],
      "execution_count": 0,
      "outputs": [
        {
          "output_type": "execute_result",
          "data": {
            "text/plain": [
              "(49972,)"
            ]
          },
          "metadata": {
            "tags": []
          },
          "execution_count": 37
        }
      ]
    },
    {
      "metadata": {
        "id": "3B3d-Q7KJjd_",
        "colab_type": "text"
      },
      "cell_type": "markdown",
      "source": [
        "**Making strings from unigrams** "
      ]
    },
    {
      "metadata": {
        "id": "dv6nUPBiGKNT",
        "colab_type": "code",
        "colab": {}
      },
      "cell_type": "code",
      "source": [
        "\n",
        "unigram_comb=[]\n",
        "for count,i in enumerate(unigram_np):\n",
        "  unigram_comb.append(' '.join(unigram_np[count]))"
      ],
      "execution_count": 0,
      "outputs": []
    },
    {
      "metadata": {
        "id": "CkZ6yT7hL9da",
        "colab_type": "code",
        "colab": {}
      },
      "cell_type": "code",
      "source": [
        "unigram_comb_head=[]\n",
        "for count,i in enumerate(head_unigram):\n",
        "  unigram_comb_head.append(' '.join(head_unigram[count]))"
      ],
      "execution_count": 0,
      "outputs": []
    },
    {
      "metadata": {
        "id": "G9y7DNspMPT0",
        "colab_type": "code",
        "colab": {}
      },
      "cell_type": "code",
      "source": [
        "unigram_comb_body=[]\n",
        "for count,i in enumerate(body_unigram):\n",
        "  unigram_comb_body.append(' '.join(body_unigram[count]))"
      ],
      "execution_count": 0,
      "outputs": []
    },
    {
      "metadata": {
        "id": "XRLX-YwUGSxQ",
        "colab_type": "code",
        "outputId": "8ddcc138-2254-45ea-e9a3-1132c6470b8d",
        "colab": {
          "base_uri": "https://localhost:8080/",
          "height": 34
        }
      },
      "cell_type": "code",
      "source": [
        "len(unigram_comb)"
      ],
      "execution_count": 0,
      "outputs": [
        {
          "output_type": "execute_result",
          "data": {
            "text/plain": [
              "49972"
            ]
          },
          "metadata": {
            "tags": []
          },
          "execution_count": 41
        }
      ]
    },
    {
      "metadata": {
        "id": "K6OqMmsYGc0l",
        "colab_type": "code",
        "outputId": "45b9846b-8467-4912-a0f0-5433cc4f9bd2",
        "colab": {
          "base_uri": "https://localhost:8080/",
          "height": 34
        }
      },
      "cell_type": "code",
      "source": [
        "len(unigram_comb[0])"
      ],
      "execution_count": 0,
      "outputs": [
        {
          "output_type": "execute_result",
          "data": {
            "text/plain": [
              "749"
            ]
          },
          "metadata": {
            "tags": []
          },
          "execution_count": 42
        }
      ]
    },
    {
      "metadata": {
        "id": "Z68QXhxtHHY_",
        "colab_type": "code",
        "outputId": "0374575c-5804-41b1-f425-718f4935922c",
        "colab": {
          "base_uri": "https://localhost:8080/",
          "height": 34
        }
      },
      "cell_type": "code",
      "source": [
        "len(unigram)"
      ],
      "execution_count": 0,
      "outputs": [
        {
          "output_type": "execute_result",
          "data": {
            "text/plain": [
              "49972"
            ]
          },
          "metadata": {
            "tags": []
          },
          "execution_count": 43
        }
      ]
    },
    {
      "metadata": {
        "id": "yKCHlMZjHPrA",
        "colab_type": "code",
        "colab": {}
      },
      "cell_type": "code",
      "source": [
        "train['headline_unigram']=np.array(unigram_comb_head)\n",
        "train['combined_unigram']=np.array(unigram_comb)\n",
        "train['body_unigram']=np.array(unigram_comb_body)"
      ],
      "execution_count": 0,
      "outputs": []
    },
    {
      "metadata": {
        "id": "YS8pZ6BCp-IK",
        "colab_type": "code",
        "outputId": "4c22b754-bb22-4bf4-e807-aab05ad33457",
        "colab": {
          "base_uri": "https://localhost:8080/",
          "height": 34
        }
      },
      "cell_type": "code",
      "source": [
        "del(unigram)\n",
        "del(head_unigram)\n",
        "del(body_unigram)\n",
        "del(unigram_comb)\n",
        "del(unigram_comb_head)\n",
        "del(unigram_comb_body)\n",
        "del(stances_train)\n",
        "del(body_train)\n",
        "del(unigram_np)\n",
        "import gc\n",
        "collected= gc.collect()\n",
        "print(\"garbage collected= \",collected)"
      ],
      "execution_count": 0,
      "outputs": [
        {
          "output_type": "stream",
          "text": [
            "garbage collected=  413\n"
          ],
          "name": "stdout"
        }
      ]
    },
    {
      "metadata": {
        "id": "1uUPY33cMiiu",
        "colab_type": "code",
        "colab": {}
      },
      "cell_type": "code",
      "source": [
        "vocab_size=4000\n",
        "from sklearn.feature_extraction.text import TfidfVectorizer\n",
        "vec = TfidfVectorizer(ngram_range=(1,1), max_df=0.8, min_df=2,max_features=vocab_size)\n",
        "vec.fit(train[\"combined_unigram\"]) # Tf-idf calculated on the combined training + test set\n",
        "vocabulary = vec.vocabulary_\n",
        "del(vec)"
      ],
      "execution_count": 0,
      "outputs": []
    },
    {
      "metadata": {
        "id": "sR-yh9AeM52Z",
        "colab_type": "code",
        "outputId": "52c26139-6ae9-4df5-de02-756de69e9b6a",
        "colab": {
          "base_uri": "https://localhost:8080/",
          "height": 51
        }
      },
      "cell_type": "code",
      "source": [
        "vecH = TfidfVectorizer(ngram_range=(1,1), max_df=0.8, min_df=2, vocabulary=vocabulary)\n",
        "xHeadlineTfidf = vecH.fit_transform(train['headline_unigram']) # use ' '.join(Headline_unigram) instead of Headline since the former is already stemmed\n",
        "print ('xHeadlineTfidf.shape:')\n",
        "print (xHeadlineTfidf.shape)\n",
        "del(vecH)"
      ],
      "execution_count": 0,
      "outputs": [
        {
          "output_type": "stream",
          "text": [
            "xHeadlineTfidf.shape:\n",
            "(49972, 4000)\n"
          ],
          "name": "stdout"
        }
      ]
    },
    {
      "metadata": {
        "id": "PkdDMVUzNox7",
        "colab_type": "code",
        "outputId": "10303c4a-b27f-4105-ad9f-63d60cd6dd92",
        "colab": {
          "base_uri": "https://localhost:8080/",
          "height": 34
        }
      },
      "cell_type": "code",
      "source": [
        "len(vocabulary)"
      ],
      "execution_count": 0,
      "outputs": [
        {
          "output_type": "execute_result",
          "data": {
            "text/plain": [
              "4000"
            ]
          },
          "metadata": {
            "tags": []
          },
          "execution_count": 49
        }
      ]
    },
    {
      "metadata": {
        "id": "ts1ucErNN0Uy",
        "colab_type": "code",
        "outputId": "9cb98628-b3b9-4df7-d2c4-c9b700bfeeef",
        "colab": {
          "base_uri": "https://localhost:8080/",
          "height": 51
        }
      },
      "cell_type": "code",
      "source": [
        "xHeadlineTfidf[0]"
      ],
      "execution_count": 0,
      "outputs": [
        {
          "output_type": "execute_result",
          "data": {
            "text/plain": [
              "<1x4000 sparse matrix of type '<class 'numpy.float64'>'\n",
              "\twith 14 stored elements in Compressed Sparse Row format>"
            ]
          },
          "metadata": {
            "tags": []
          },
          "execution_count": 50
        }
      ]
    },
    {
      "metadata": {
        "id": "BRSoz_EwN-pQ",
        "colab_type": "code",
        "outputId": "ac152347-aff2-44f3-84d9-e6cb045bd835",
        "colab": {
          "base_uri": "https://localhost:8080/",
          "height": 51
        }
      },
      "cell_type": "code",
      "source": [
        "vecB = TfidfVectorizer(ngram_range=(1, 1), max_df=0.8, min_df=2, vocabulary=vocabulary,max_features=vocab_size)\n",
        "xBodyTfidf = vecB.fit_transform(train['body_unigram'])\n",
        "print ('xBodyTfidf.shape:')\n",
        "print (xBodyTfidf.shape)\n",
        "del(vecB)\n",
        "del(vocabulary)"
      ],
      "execution_count": 0,
      "outputs": [
        {
          "output_type": "stream",
          "text": [
            "xBodyTfidf.shape:\n",
            "(49972, 4000)\n"
          ],
          "name": "stdout"
        }
      ]
    },
    {
      "metadata": {
        "id": "BAajVndfwt7E",
        "colab_type": "code",
        "colab": {}
      },
      "cell_type": "code",
      "source": [
        "train[0:1]"
      ],
      "execution_count": 0,
      "outputs": []
    },
    {
      "metadata": {
        "id": "KmNiWMPM60D8",
        "colab_type": "code",
        "outputId": "65bef406-249a-4627-fbbb-c4df53ba2c9a",
        "colab": {
          "base_uri": "https://localhost:8080/",
          "height": 51
        }
      },
      "cell_type": "code",
      "source": [
        "print(xHeadlineTfidf.shape)\n",
        "print(xBodyTfidf.shape)"
      ],
      "execution_count": 0,
      "outputs": [
        {
          "output_type": "stream",
          "text": [
            "(49972, 4000)\n",
            "(49972, 4000)\n"
          ],
          "name": "stdout"
        }
      ]
    },
    {
      "metadata": {
        "id": "Umw48u_X755Z",
        "colab_type": "code",
        "colab": {}
      },
      "cell_type": "code",
      "source": [
        "type(xHeadlineTfidf)"
      ],
      "execution_count": 0,
      "outputs": []
    },
    {
      "metadata": {
        "id": "c7rGYFgR8AVj",
        "colab_type": "code",
        "colab": {}
      },
      "cell_type": "code",
      "source": [
        "from scipy.sparse import csr_matrix\n",
        "xheadline= xHeadlineTfidf.toarray()\n",
        "xbody=xBodyTfidf.toarray()\n",
        "del(xHeadlineTfidf)\n",
        "del(xBodyTfidf)\n"
      ],
      "execution_count": 0,
      "outputs": []
    },
    {
      "metadata": {
        "id": "OcSFZgkH85mH",
        "colab_type": "code",
        "outputId": "247fd4b8-5760-47a6-91e1-e858a3e82a51",
        "colab": {
          "base_uri": "https://localhost:8080/",
          "height": 68
        }
      },
      "cell_type": "code",
      "source": [
        "print(xheadline.shape)\n",
        "print(\"body shape\")\n",
        "print(xbody.shape)"
      ],
      "execution_count": 0,
      "outputs": [
        {
          "output_type": "stream",
          "text": [
            "(49972, 4000)\n",
            "body shape\n",
            "(49972, 4000)\n"
          ],
          "name": "stdout"
        }
      ]
    },
    {
      "metadata": {
        "id": "SUQe6Iys87XM",
        "colab_type": "code",
        "outputId": "96d01056-8b24-470c-bb14-683412f3a008",
        "colab": {
          "base_uri": "https://localhost:8080/",
          "height": 34
        }
      },
      "cell_type": "code",
      "source": [
        "x= np.hstack((xheadline,xbody))\n",
        "print(x.shape)"
      ],
      "execution_count": 0,
      "outputs": [
        {
          "output_type": "stream",
          "text": [
            "(49972, 8000)\n"
          ],
          "name": "stdout"
        }
      ]
    },
    {
      "metadata": {
        "id": "-M2H5Gtj5_oC",
        "colab_type": "code",
        "outputId": "c85ba90f-3331-44d3-e876-97a09d5880db",
        "colab": {
          "base_uri": "https://localhost:8080/",
          "height": 68
        }
      },
      "cell_type": "code",
      "source": [
        "print(train.columns)\n",
        "# train['xHeadlineTfidf']=xHeadlineTfidf\n",
        "# train['xBodyTfidf']=xBodyTfidf\n",
        "# train['combinedTfidf']=x"
      ],
      "execution_count": 0,
      "outputs": [
        {
          "output_type": "stream",
          "text": [
            "Index(['Headline', 'Body ID', 'Stance', 'articleBody', 'combined',\n",
            "       'headline_unigram', 'combined_unigram', 'body_unigram'],\n",
            "      dtype='object')\n"
          ],
          "name": "stdout"
        }
      ]
    },
    {
      "metadata": {
        "id": "BpzB8AaQfs4B",
        "colab_type": "code",
        "outputId": "e5fded8f-5bad-4b4f-a70d-f45cd47086b1",
        "colab": {
          "base_uri": "https://localhost:8080/",
          "height": 68
        }
      },
      "cell_type": "code",
      "source": [
        "y= train['Stance']\n",
        "print(x.shape)\n",
        "print(y.shape)\n",
        "del(train)\n",
        "del(xheadline)\n",
        "del(xbody)\n",
        "\n",
        "import gc\n",
        "collected= gc.collect()\n",
        "print(\"garbage collected= \",collected)"
      ],
      "execution_count": 0,
      "outputs": [
        {
          "output_type": "stream",
          "text": [
            "(49972, 8000)\n",
            "(49972,)\n",
            "garbage collected=  275\n"
          ],
          "name": "stdout"
        }
      ]
    },
    {
      "metadata": {
        "id": "9Z7TtpCde_mO",
        "colab_type": "code",
        "colab": {}
      },
      "cell_type": "code",
      "source": [
        "from numpy import loadtxt\n",
        "from xgboost import XGBClassifier\n",
        "from sklearn.model_selection import train_test_split\n",
        "from sklearn.metrics import accuracy_score\n",
        "\n",
        "f=open('tfidf_x.pickle','rb')\n",
        "x= pk.load(f)\n",
        "f.close()\n",
        "\n",
        "seed = 7\n",
        "test_size = 0.33\n",
        "X_train, X_test, y_train, y_test = train_test_split(x, y, test_size=test_size, random_state=seed)\n",
        "\n"
      ],
      "execution_count": 0,
      "outputs": []
    },
    {
      "metadata": {
        "id": "AdlHTyQuRbLZ",
        "colab_type": "code",
        "colab": {}
      },
      "cell_type": "code",
      "source": [
        "import pickle as pk\n",
        "f=open('tfidf_x.pickle','wb')\n",
        "pk.dump(x,f)\n",
        "f.close()\n",
        "del(x)"
      ],
      "execution_count": 0,
      "outputs": []
    },
    {
      "metadata": {
        "id": "Psd26E7pj_iI",
        "colab_type": "code",
        "outputId": "659c1050-5f85-4a7f-b41b-401fba243b90",
        "colab": {
          "base_uri": "https://localhost:8080/",
          "height": 34
        }
      },
      "cell_type": "code",
      "source": [
        "\n",
        "from pydrive.auth import GoogleAuth\n",
        "from pydrive.drive import GoogleDrive\n",
        "from google.colab import auth\n",
        "from oauth2client.client import GoogleCredentials\n",
        "\n",
        "# 1. Authenticate and create the PyDrive client.\n",
        "auth.authenticate_user()\n",
        "gauth = GoogleAuth()\n",
        "gauth.credentials = GoogleCredentials.get_application_default()\n",
        "drive = GoogleDrive(gauth)  \n",
        "\n",
        "# get the folder id where you want to save your file\n",
        "file = drive.CreateFile()\n",
        "file.SetContentFile('tfidf_x.pickle')\n",
        "file.Upload()\n",
        "# del(x)\n",
        "import gc\n",
        "collected= gc.collect()\n",
        "print(\"garbage collected= \",collected)"
      ],
      "execution_count": 0,
      "outputs": [
        {
          "output_type": "stream",
          "text": [
            "garbage collected=  1137\n"
          ],
          "name": "stdout"
        }
      ]
    },
    {
      "metadata": {
        "id": "VFHcae-FuJGB",
        "colab_type": "code",
        "outputId": "1809a4e1-107e-4e62-b752-78bf2a04d53b",
        "colab": {
          "base_uri": "https://localhost:8080/",
          "height": 343
        }
      },
      "cell_type": "code",
      "source": [
        "!pip install pydrive"
      ],
      "execution_count": 0,
      "outputs": [
        {
          "output_type": "stream",
          "text": [
            "Collecting pydrive\n",
            "\u001b[?25l  Downloading https://files.pythonhosted.org/packages/52/e0/0e64788e5dd58ce2d6934549676243dc69d982f198524be9b99e9c2a4fd5/PyDrive-1.3.1.tar.gz (987kB)\n",
            "\u001b[K    100% |████████████████████████████████| 993kB 27.4MB/s \n",
            "\u001b[?25hRequirement already satisfied: google-api-python-client>=1.2 in /usr/local/lib/python3.6/dist-packages (from pydrive) (1.6.7)\n",
            "Requirement already satisfied: oauth2client>=4.0.0 in /usr/local/lib/python3.6/dist-packages (from pydrive) (4.1.3)\n",
            "Requirement already satisfied: PyYAML>=3.0 in /usr/local/lib/python3.6/dist-packages (from pydrive) (3.13)\n",
            "Requirement already satisfied: httplib2<1dev,>=0.9.2 in /usr/local/lib/python3.6/dist-packages (from google-api-python-client>=1.2->pydrive) (0.11.3)\n",
            "Requirement already satisfied: six<2dev,>=1.6.1 in /usr/local/lib/python3.6/dist-packages (from google-api-python-client>=1.2->pydrive) (1.12.0)\n",
            "Requirement already satisfied: uritemplate<4dev,>=3.0.0 in /usr/local/lib/python3.6/dist-packages (from google-api-python-client>=1.2->pydrive) (3.0.0)\n",
            "Requirement already satisfied: rsa>=3.1.4 in /usr/local/lib/python3.6/dist-packages (from oauth2client>=4.0.0->pydrive) (4.0)\n",
            "Requirement already satisfied: pyasn1>=0.1.7 in /usr/local/lib/python3.6/dist-packages (from oauth2client>=4.0.0->pydrive) (0.4.5)\n",
            "Requirement already satisfied: pyasn1-modules>=0.0.5 in /usr/local/lib/python3.6/dist-packages (from oauth2client>=4.0.0->pydrive) (0.2.5)\n",
            "Building wheels for collected packages: pydrive\n",
            "  Building wheel for pydrive (setup.py) ... \u001b[?25ldone\n",
            "\u001b[?25h  Stored in directory: /root/.cache/pip/wheels/fa/d2/9a/d3b6b506c2da98289e5d417215ce34b696db856643bad779f4\n",
            "Successfully built pydrive\n",
            "Installing collected packages: pydrive\n",
            "Successfully installed pydrive-1.3.1\n"
          ],
          "name": "stdout"
        }
      ]
    },
    {
      "metadata": {
        "id": "RpFVgw2zj4hz",
        "colab_type": "code",
        "colab": {}
      },
      "cell_type": "code",
      "source": [
        "# seed = 7\n",
        "# test_size = 0.33\n",
        "# X_train, X_test, y_train, y_test = train_test_split(X, Y, test_size=test_size, random_state=seed)\n",
        "# fit model no training data\n",
        "\n",
        "model = XGBClassifier()\n",
        "model.fit(X_train, y_train)\n",
        "print(\"model fit done\")\n",
        "# make predictions for test data\n",
        "y_pred = model.predict(X_test)\n",
        "print(\"predictions obtained\")\n",
        "predictions = [round(value) for value in y_pred]\n",
        "# evaluate predictions\n",
        "print(\"calculating accuracy\")\n",
        "accuracy = accuracy_score(y_test, predictions)\n",
        "print(\"Accuracy: %.2f%%\" % (accuracy * 100.0))"
      ],
      "execution_count": 0,
      "outputs": []
    },
    {
      "metadata": {
        "id": "rdmfrhVDX2bC",
        "colab_type": "code",
        "outputId": "574fb4e2-e189-4609-a336-2ebaa6cc692a",
        "colab": {
          "base_uri": "https://localhost:8080/",
          "height": 34
        }
      },
      "cell_type": "code",
      "source": [
        "from google.colab import drive\n",
        "drive.mount('/content/drive')"
      ],
      "execution_count": 0,
      "outputs": [
        {
          "output_type": "stream",
          "text": [
            "Drive already mounted at /content/drive; to attempt to forcibly remount, call drive.mount(\"/content/drive\", force_remount=True).\n"
          ],
          "name": "stdout"
        }
      ]
    },
    {
      "metadata": {
        "id": "CciVjDXDY0MZ",
        "colab_type": "code",
        "outputId": "f43ac74d-93fc-494d-e9ab-19872fe61a8b",
        "colab": {
          "base_uri": "https://localhost:8080/",
          "height": 34
        }
      },
      "cell_type": "code",
      "source": [
        "import os\n",
        "os.getcwd()"
      ],
      "execution_count": 0,
      "outputs": [
        {
          "output_type": "execute_result",
          "data": {
            "text/plain": [
              "'/content'"
            ]
          },
          "metadata": {
            "tags": []
          },
          "execution_count": 4
        }
      ]
    },
    {
      "metadata": {
        "id": "15DPFeN5ZZR8",
        "colab_type": "code",
        "colab": {}
      },
      "cell_type": "code",
      "source": [
        "os.chdir('drive/My Drive')"
      ],
      "execution_count": 0,
      "outputs": []
    },
    {
      "metadata": {
        "id": "rKN1hR6AZhc1",
        "colab_type": "code",
        "outputId": "546b8b01-d80a-4bbe-8d9d-7126acd08108",
        "colab": {
          "base_uri": "https://localhost:8080/",
          "height": 714
        }
      },
      "cell_type": "code",
      "source": [
        "os.listdir()"
      ],
      "execution_count": 0,
      "outputs": [
        {
          "output_type": "execute_result",
          "data": {
            "text/plain": [
              "['img482.jpg',\n",
              " 'ImagePrint.pdf',\n",
              " 'img478.jpg',\n",
              " 'Contact Information.gform',\n",
              " 'avr mazidi.pdf',\n",
              " 'numpy-1.9.0-win32-superpack-python2.7.exe',\n",
              " 'Screenshot_2017-07-30-22-20-16.png',\n",
              " 'mnist_data_label',\n",
              " 'OCR.py',\n",
              " 'mnist_data',\n",
              " 'To-do list.gsheet',\n",
              " 'Gate',\n",
              " 'IITK_resume.pdf',\n",
              " 'IIT_K_modify.pdf',\n",
              " 'Shivani_Tyagi.rtf',\n",
              " 'machine learning- stanford',\n",
              " 'kanpur resume.pdf',\n",
              " 'kanpur final.pdf',\n",
              " 'collage',\n",
              " 'Resume',\n",
              " 'offer.jpg',\n",
              " 'Btech sem result',\n",
              " 'Alternate prospectus aicte iiit h.pdf',\n",
              " '2018201083_3.c',\n",
              " '2018201083_1.c',\n",
              " '20182010_2.c',\n",
              " 'pnb passbook.pdf',\n",
              " 'resume_ey _page2.pdf',\n",
              " 'resume_ey_page1.pdf',\n",
              " 'resume_ey.pdf',\n",
              " 'resume.pdf',\n",
              " 'resume1.pdf',\n",
              " 'tiwari2.3gp',\n",
              " 'Colab Notebooks',\n",
              " 'Mentor Intern Agreement Form',\n",
              " 'ankush_nagpal.pdf',\n",
              " 'ankush_nagpal - Ankush nagpal.pdf',\n",
              " 'resume',\n",
              " 'ankush_nagpal_new.pdf',\n",
              " 'fnc',\n",
              " 'tfidf_x.pickle']"
            ]
          },
          "metadata": {
            "tags": []
          },
          "execution_count": 6
        }
      ]
    },
    {
      "metadata": {
        "id": "hbrKeXQ7ZlWA",
        "colab_type": "code",
        "colab": {}
      },
      "cell_type": "code",
      "source": [
        "from numpy import loadtxt\n",
        "# from xgboost import XGBClassifier\n",
        "from sklearn.model_selection import train_test_split\n",
        "from sklearn.metrics import accuracy_score\n",
        "import pickle as pk\n",
        "f=open('tfidf_x.pickle','rb')\n",
        "x= pk.load(f)\n",
        "f.close()\n",
        "y=train['Stance']\n",
        "seed = 7\n",
        "test_size = 0.33\n",
        "X_train, X_test, y_train, y_test = train_test_split(x, y, test_size=test_size, random_state=seed)\n"
      ],
      "execution_count": 0,
      "outputs": []
    },
    {
      "metadata": {
        "id": "sIXTdblgZzPR",
        "colab_type": "code",
        "outputId": "1565c641-26e4-4c3d-e20b-4f01e4d99d41",
        "colab": {
          "base_uri": "https://localhost:8080/",
          "height": 34
        }
      },
      "cell_type": "code",
      "source": [
        "\n",
        "# y=train['Stance']\n",
        "del(train)\n",
        "del(x)\n",
        "del(f)\n",
        "import gc\n",
        "collected= gc.collect()\n",
        "print(\"garbage collected= \",collected)"
      ],
      "execution_count": 0,
      "outputs": [
        {
          "output_type": "stream",
          "text": [
            "garbage collected=  24\n"
          ],
          "name": "stdout"
        }
      ]
    },
    {
      "metadata": {
        "id": "kbuQCJxEaSeR",
        "colab_type": "code",
        "outputId": "39d84823-e60a-44a1-c716-72675f932955",
        "colab": {
          "base_uri": "https://localhost:8080/",
          "height": 34
        }
      },
      "cell_type": "code",
      "source": [
        "import gc\n",
        "collected= gc.collect()\n",
        "print(\"garbage collected= \",collected)"
      ],
      "execution_count": 0,
      "outputs": [
        {
          "output_type": "stream",
          "text": [
            "garbage collected=  0\n"
          ],
          "name": "stdout"
        }
      ]
    },
    {
      "metadata": {
        "id": "fgV9CMJFbD1d",
        "colab_type": "code",
        "outputId": "7c557c1f-7727-4508-f878-8e0d5d3d49fc",
        "colab": {
          "base_uri": "https://localhost:8080/",
          "height": 391
        }
      },
      "cell_type": "code",
      "source": [
        "from sklearn.ensemble import GradientBoostingClassifier\n",
        "clf = GradientBoostingClassifier(n_estimators=200, random_state=14128, verbose=True)\n",
        "clf.fit(X_train, y_train)\n",
        "from sklearn.metrics import accuracy_score\n",
        "\n",
        "#model.fit(trainSentiment_feats, trainLabels)\n",
        "#model.fit(trainSentiment_feats, trainLabels)\n",
        "# make predictions for test data\n",
        "\n",
        "val_pred = clf.predict(X_test)\n",
        "y_predict = [round(value) for value in val_pred]\n",
        "# evaluate predictions\n",
        "accuracy = accuracy_score(y_test, y_predict)\n",
        "print(\"Accuracy: %.2f%%\" % (accuracy * 100.0))\n",
        "# print('Score over validation set: ',fnc_score(valLabels, valPredictions))\n"
      ],
      "execution_count": 0,
      "outputs": [
        {
          "output_type": "stream",
          "text": [
            "      Iter       Train Loss   Remaining Time \n",
            "         1       34780.2667          267.90m\n",
            "         2       32899.8155          265.24m\n",
            "         3       31350.8851          263.34m\n",
            "         4       30061.3159          263.02m\n",
            "         5       28940.7437          261.59m\n",
            "         6       28029.8302          260.86m\n",
            "         7       27204.8798          259.17m\n",
            "         8       26587.9660          257.82m\n",
            "         9       26030.2315          256.70m\n",
            "        10       25530.1862          254.90m\n",
            "        20       22816.7311          239.94m\n",
            "        30       21510.7675          225.55m\n",
            "        40       20659.2709          210.09m\n",
            "        50       20027.5525          195.34m\n",
            "        60       19378.5485          181.37m\n",
            "        70       18845.1627          167.87m\n",
            "        80       18360.6994          154.54m\n",
            "        90       17898.0159          141.30m\n",
            "       100       17428.7941          128.19m\n",
            "       200       14225.7487            0.00s\n",
            "Accuracy: 84.11%\n"
          ],
          "name": "stdout"
        }
      ]
    },
    {
      "metadata": {
        "id": "JeAsjm3Cj48U",
        "colab_type": "code",
        "colab": {}
      },
      "cell_type": "code",
      "source": [
        "def score(gold_lab, test_lab):\n",
        "    score = 0.0\n",
        "    for (g,t) in zip(gold_lab, test_lab):\n",
        "        if g == t:\n",
        "            score+=0.25\n",
        "            if g != 3:\n",
        "                score+=0.5\n",
        "        if g in [0,1,2] and t in [0,1,2]:\n",
        "            score+=0.25\n",
        "    \n",
        "    return score\n",
        "\n",
        "def fnc_score(actual, predicted):\n",
        "    actual_score = score(actual, actual)\n",
        "    calc_score = score(actual, predicted)\n",
        "    return (calc_score*100)/actual_score"
      ],
      "execution_count": 0,
      "outputs": []
    },
    {
      "metadata": {
        "id": "iuM-PwR3lLK2",
        "colab_type": "code",
        "colab": {}
      },
      "cell_type": "code",
      "source": [
        "LABELS = ['agree', 'disagree', 'discuss', 'unrelated']\n",
        "LABELS_RELATED = ['unrelated','related']\n",
        "RELATED = LABELS[0:3]\n",
        "\n",
        "def score_submission(gold_labels, test_labels):\n",
        "    score = 0.0\n",
        "    cm = [[0, 0, 0, 0],\n",
        "          [0, 0, 0, 0],\n",
        "          [0, 0, 0, 0],\n",
        "          [0, 0, 0, 0]]\n",
        "\n",
        "    for i, (g, t) in enumerate(zip(gold_labels, test_labels)):\n",
        "        g_stance, t_stance = g, t\n",
        "        if g_stance == t_stance:\n",
        "            score += 0.25\n",
        "            if g_stance != 'unrelated':\n",
        "                score += 0.50\n",
        "        if g_stance in RELATED and t_stance in RELATED:\n",
        "            score += 0.25\n",
        "\n",
        "        cm[LABELS.index(g_stance)][LABELS.index(t_stance)] += 1\n",
        "\n",
        "    return score, cm\n",
        "\n",
        "\n",
        "def print_confusion_matrix(cm):\n",
        "    lines = []\n",
        "    header = \"|{:^11}|{:^11}|{:^11}|{:^11}|{:^11}|\".format('', *LABELS)\n",
        "    line_len = len(header)\n",
        "    lines.append(\"-\"*line_len)\n",
        "    lines.append(header)\n",
        "    lines.append(\"-\"*line_len)\n",
        "\n",
        "    hit = 0\n",
        "    total = 0\n",
        "    for i, row in enumerate(cm):\n",
        "        hit += row[i]\n",
        "        total += sum(row)\n",
        "        lines.append(\"|{:^11}|{:^11}|{:^11}|{:^11}|{:^11}|\".format(LABELS[i],\n",
        "                                                                   *row))\n",
        "        lines.append(\"-\"*line_len)\n",
        "    print('\\n'.join(lines))\n",
        "\n",
        "\n",
        "def report_score(actual,predicted):\n",
        "    score,cm = score_submission(actual,predicted)\n",
        "    best_score, _ = score_submission(actual,actual)\n",
        "\n",
        "    print_confusion_matrix(cm)\n",
        "    print(\"Score: \" +str(score) + \" out of \" + str(best_score) + \"\\t(\"+str(score*100/best_score) + \"%)\")\n",
        "    return score*100/best_score"
      ],
      "execution_count": 0,
      "outputs": []
    },
    {
      "metadata": {
        "id": "nbNvWdUAmJ7o",
        "colab_type": "code",
        "outputId": "8622d55b-a0d8-4f30-d14b-3c7c67b198c9",
        "colab": {
          "base_uri": "https://localhost:8080/",
          "height": 34
        }
      },
      "cell_type": "code",
      "source": [
        "print('Score over validation set: ',fnc_score(y_test, y_predict))"
      ],
      "execution_count": 0,
      "outputs": [
        {
          "output_type": "stream",
          "text": [
            "Score over validation set:  65.72342934141822\n"
          ],
          "name": "stdout"
        }
      ]
    },
    {
      "metadata": {
        "id": "c6-pazjsiOEx",
        "colab_type": "code",
        "colab": {}
      },
      "cell_type": "code",
      "source": [
        "import pickle as pk\n",
        "f=open('tfidf_ypredict.pickle','wb')\n",
        "pk.dump(y_predict,f)\n",
        "f.close()"
      ],
      "execution_count": 0,
      "outputs": []
    },
    {
      "metadata": {
        "id": "l1Y2W9tejjjW",
        "colab_type": "code",
        "outputId": "d20a8a4f-f535-48c6-9be2-0c4a4e37837d",
        "colab": {
          "base_uri": "https://localhost:8080/",
          "height": 34
        }
      },
      "cell_type": "code",
      "source": [
        "from pydrive.auth import GoogleAuth\n",
        "from pydrive.drive import GoogleDrive\n",
        "from google.colab import auth\n",
        "from oauth2client.client import GoogleCredentials\n",
        "\n",
        "# 1. Authenticate and create the PyDrive client.\n",
        "auth.authenticate_user()\n",
        "gauth = GoogleAuth()\n",
        "gauth.credentials = GoogleCredentials.get_application_default()\n",
        "drive = GoogleDrive(gauth)  \n",
        "\n",
        "# get the folder id where you want to save your file\n",
        "file = drive.CreateFile()\n",
        "file.SetContentFile('tfidf_ypredict.pickle')\n",
        "file.Upload()\n",
        "# del(x)\n",
        "import gc\n",
        "collected= gc.collect()\n",
        "print(\"garbage collected= \",collected)"
      ],
      "execution_count": 0,
      "outputs": [
        {
          "output_type": "stream",
          "text": [
            "garbage collected=  505\n"
          ],
          "name": "stdout"
        }
      ]
    },
    {
      "metadata": {
        "id": "tNMeWGCpjuln",
        "colab_type": "code",
        "outputId": "65d2ac97-33a5-4b8c-aad4-baabdddb2e6f",
        "colab": {
          "base_uri": "https://localhost:8080/",
          "height": 343
        }
      },
      "cell_type": "code",
      "source": [
        "!pip install pydrive"
      ],
      "execution_count": 0,
      "outputs": [
        {
          "output_type": "stream",
          "text": [
            "Collecting pydrive\n",
            "\u001b[?25l  Downloading https://files.pythonhosted.org/packages/52/e0/0e64788e5dd58ce2d6934549676243dc69d982f198524be9b99e9c2a4fd5/PyDrive-1.3.1.tar.gz (987kB)\n",
            "\u001b[K    100% |████████████████████████████████| 993kB 23.9MB/s \n",
            "\u001b[?25hRequirement already satisfied: google-api-python-client>=1.2 in /usr/local/lib/python3.6/dist-packages (from pydrive) (1.6.7)\n",
            "Requirement already satisfied: oauth2client>=4.0.0 in /usr/local/lib/python3.6/dist-packages (from pydrive) (4.1.3)\n",
            "Requirement already satisfied: PyYAML>=3.0 in /usr/local/lib/python3.6/dist-packages (from pydrive) (3.13)\n",
            "Requirement already satisfied: uritemplate<4dev,>=3.0.0 in /usr/local/lib/python3.6/dist-packages (from google-api-python-client>=1.2->pydrive) (3.0.0)\n",
            "Requirement already satisfied: six<2dev,>=1.6.1 in /usr/local/lib/python3.6/dist-packages (from google-api-python-client>=1.2->pydrive) (1.12.0)\n",
            "Requirement already satisfied: httplib2<1dev,>=0.9.2 in /usr/local/lib/python3.6/dist-packages (from google-api-python-client>=1.2->pydrive) (0.11.3)\n",
            "Requirement already satisfied: rsa>=3.1.4 in /usr/local/lib/python3.6/dist-packages (from oauth2client>=4.0.0->pydrive) (4.0)\n",
            "Requirement already satisfied: pyasn1>=0.1.7 in /usr/local/lib/python3.6/dist-packages (from oauth2client>=4.0.0->pydrive) (0.4.5)\n",
            "Requirement already satisfied: pyasn1-modules>=0.0.5 in /usr/local/lib/python3.6/dist-packages (from oauth2client>=4.0.0->pydrive) (0.2.5)\n",
            "Building wheels for collected packages: pydrive\n",
            "  Building wheel for pydrive (setup.py) ... \u001b[?25ldone\n",
            "\u001b[?25h  Stored in directory: /root/.cache/pip/wheels/fa/d2/9a/d3b6b506c2da98289e5d417215ce34b696db856643bad779f4\n",
            "Successfully built pydrive\n",
            "Installing collected packages: pydrive\n",
            "Successfully installed pydrive-1.3.1\n"
          ],
          "name": "stdout"
        }
      ]
    },
    {
      "metadata": {
        "id": "XBTaH7ytjyFE",
        "colab_type": "code",
        "colab": {}
      },
      "cell_type": "code",
      "source": [
        ""
      ],
      "execution_count": 0,
      "outputs": []
    }
  ]
}